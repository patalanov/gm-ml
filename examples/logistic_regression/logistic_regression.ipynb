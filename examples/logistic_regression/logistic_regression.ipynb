{
 "cells": [
  {
   "cell_type": "code",
   "execution_count": 1,
   "metadata": {},
   "outputs": [],
   "source": [
    "%load_ext autoreload\n",
    "%autoreload 2"
   ]
  },
  {
   "cell_type": "code",
   "execution_count": 2,
   "metadata": {},
   "outputs": [
    {
     "name": "stdout",
     "output_type": "stream",
     "text": [
      "Overwriting requirements.txt\n"
     ]
    }
   ],
   "source": [
    "%%writefile requirements.txt\n",
    "\n",
    "-i https://artifactory.globoi.com/artifactory/api/pypi/pypi-all/simple\n",
    "    \n",
    "gflow[gcp]==1.1.0\n",
    "scikit-learn==0.23.2\n",
    "graphviz"
   ]
  },
  {
   "cell_type": "code",
   "execution_count": 3,
   "metadata": {},
   "outputs": [
    {
     "name": "stdout",
     "output_type": "stream",
     "text": [
      "Looking in indexes: https://artifactory.globoi.com/artifactory/api/pypi/pypi-all/simple\n",
      "Requirement already satisfied: gflow[gcp]==1.1.0 in /Users/vitor.patalano/opt/anaconda3/envs/ia/lib/python3.7/site-packages (from -r requirements.txt (line 4)) (1.1.0)\n",
      "Requirement already satisfied: scikit-learn==0.23.2 in /Users/vitor.patalano/opt/anaconda3/envs/ia/lib/python3.7/site-packages (from -r requirements.txt (line 5)) (0.23.2)\n",
      "Requirement already satisfied: graphviz in /Users/vitor.patalano/opt/anaconda3/envs/ia/lib/python3.7/site-packages (from -r requirements.txt (line 6)) (0.20.1)\n",
      "Requirement already satisfied: cookiecutter>=1.7.2 in /Users/vitor.patalano/opt/anaconda3/envs/ia/lib/python3.7/site-packages (from gflow[gcp]==1.1.0->-r requirements.txt (line 4)) (2.3.0)\n",
      "Requirement already satisfied: PyYAML>=5.3.1 in /Users/vitor.patalano/opt/anaconda3/envs/ia/lib/python3.7/site-packages (from gflow[gcp]==1.1.0->-r requirements.txt (line 4)) (6.0)\n",
      "Requirement already satisfied: click>=7.0 in /Users/vitor.patalano/opt/anaconda3/envs/ia/lib/python3.7/site-packages (from gflow[gcp]==1.1.0->-r requirements.txt (line 4)) (7.1.2)\n",
      "Requirement already satisfied: numpy>=1.0.0 in /Users/vitor.patalano/opt/anaconda3/envs/ia/lib/python3.7/site-packages (from gflow[gcp]==1.1.0->-r requirements.txt (line 4)) (1.21.6)\n",
      "Requirement already satisfied: packaging>=20.4 in /Users/vitor.patalano/opt/anaconda3/envs/ia/lib/python3.7/site-packages (from gflow[gcp]==1.1.0->-r requirements.txt (line 4)) (21.3)\n",
      "Requirement already satisfied: python-slugify>=4.0.0 in /Users/vitor.patalano/opt/anaconda3/envs/ia/lib/python3.7/site-packages (from gflow[gcp]==1.1.0->-r requirements.txt (line 4)) (8.0.1)\n",
      "Requirement already satisfied: requests>=2.0.0 in /Users/vitor.patalano/opt/anaconda3/envs/ia/lib/python3.7/site-packages (from gflow[gcp]==1.1.0->-r requirements.txt (line 4)) (2.28.1)\n",
      "Requirement already satisfied: Jinja2>=2.0.0 in /Users/vitor.patalano/opt/anaconda3/envs/ia/lib/python3.7/site-packages (from gflow[gcp]==1.1.0->-r requirements.txt (line 4)) (3.1.2)\n",
      "Requirement already satisfied: kfp>=0.5.1 in /Users/vitor.patalano/opt/anaconda3/envs/ia/lib/python3.7/site-packages (from gflow[gcp]==1.1.0->-r requirements.txt (line 4)) (1.8.22)\n",
      "Requirement already satisfied: coloredlogs>=14.0 in /Users/vitor.patalano/opt/anaconda3/envs/ia/lib/python3.7/site-packages (from gflow[gcp]==1.1.0->-r requirements.txt (line 4)) (15.0.1)\n",
      "Requirement already satisfied: docker>=4.2.0 in /Users/vitor.patalano/opt/anaconda3/envs/ia/lib/python3.7/site-packages (from gflow[gcp]==1.1.0->-r requirements.txt (line 4)) (6.1.3)\n",
      "Requirement already satisfied: pandas>=1.0.0 in /Users/vitor.patalano/opt/anaconda3/envs/ia/lib/python3.7/site-packages (from gflow[gcp]==1.1.0->-r requirements.txt (line 4)) (1.3.5)\n",
      "Requirement already satisfied: google-cloud-bigquery<2.0.0,>=1.24.0 in /Users/vitor.patalano/opt/anaconda3/envs/ia/lib/python3.7/site-packages (from gflow[gcp]==1.1.0->-r requirements.txt (line 4)) (1.28.3)\n",
      "Requirement already satisfied: google-cloud-storage>=1.28.1 in /Users/vitor.patalano/opt/anaconda3/envs/ia/lib/python3.7/site-packages (from gflow[gcp]==1.1.0->-r requirements.txt (line 4)) (2.1.0)\n",
      "Requirement already satisfied: google-api-python-client>=1.9.3 in /Users/vitor.patalano/opt/anaconda3/envs/ia/lib/python3.7/site-packages (from gflow[gcp]==1.1.0->-r requirements.txt (line 4)) (1.12.11)\n",
      "Requirement already satisfied: threadpoolctl>=2.0.0 in /Users/vitor.patalano/opt/anaconda3/envs/ia/lib/python3.7/site-packages (from scikit-learn==0.23.2->-r requirements.txt (line 5)) (3.1.0)\n",
      "Requirement already satisfied: joblib>=0.11 in /Users/vitor.patalano/opt/anaconda3/envs/ia/lib/python3.7/site-packages (from scikit-learn==0.23.2->-r requirements.txt (line 5)) (1.1.0)\n",
      "Requirement already satisfied: scipy>=0.19.1 in /Users/vitor.patalano/opt/anaconda3/envs/ia/lib/python3.7/site-packages (from scikit-learn==0.23.2->-r requirements.txt (line 5)) (1.7.3)\n",
      "Requirement already satisfied: humanfriendly>=9.1 in /Users/vitor.patalano/opt/anaconda3/envs/ia/lib/python3.7/site-packages (from coloredlogs>=14.0->gflow[gcp]==1.1.0->-r requirements.txt (line 4)) (10.0)\n",
      "Requirement already satisfied: rich in /Users/vitor.patalano/opt/anaconda3/envs/ia/lib/python3.7/site-packages (from cookiecutter>=1.7.2->gflow[gcp]==1.1.0->-r requirements.txt (line 4)) (13.5.2)\n",
      "Requirement already satisfied: arrow in /Users/vitor.patalano/opt/anaconda3/envs/ia/lib/python3.7/site-packages (from cookiecutter>=1.7.2->gflow[gcp]==1.1.0->-r requirements.txt (line 4)) (1.2.3)\n",
      "Requirement already satisfied: binaryornot>=0.4.4 in /Users/vitor.patalano/opt/anaconda3/envs/ia/lib/python3.7/site-packages (from cookiecutter>=1.7.2->gflow[gcp]==1.1.0->-r requirements.txt (line 4)) (0.4.4)\n",
      "Requirement already satisfied: websocket-client>=0.32.0 in /Users/vitor.patalano/opt/anaconda3/envs/ia/lib/python3.7/site-packages (from docker>=4.2.0->gflow[gcp]==1.1.0->-r requirements.txt (line 4)) (1.3.3)\n",
      "Requirement already satisfied: urllib3>=1.26.0 in /Users/vitor.patalano/opt/anaconda3/envs/ia/lib/python3.7/site-packages (from docker>=4.2.0->gflow[gcp]==1.1.0->-r requirements.txt (line 4)) (1.26.11)\n",
      "Requirement already satisfied: six<2dev,>=1.13.0 in /Users/vitor.patalano/opt/anaconda3/envs/ia/lib/python3.7/site-packages (from google-api-python-client>=1.9.3->gflow[gcp]==1.1.0->-r requirements.txt (line 4)) (1.16.0)\n",
      "Requirement already satisfied: google-auth-httplib2>=0.0.3 in /Users/vitor.patalano/opt/anaconda3/envs/ia/lib/python3.7/site-packages (from google-api-python-client>=1.9.3->gflow[gcp]==1.1.0->-r requirements.txt (line 4)) (0.1.0)\n",
      "Requirement already satisfied: google-api-core<3dev,>=1.21.0 in /Users/vitor.patalano/opt/anaconda3/envs/ia/lib/python3.7/site-packages (from google-api-python-client>=1.9.3->gflow[gcp]==1.1.0->-r requirements.txt (line 4)) (1.34.0)\n",
      "Requirement already satisfied: google-auth<3dev,>=1.16.0 in /Users/vitor.patalano/opt/anaconda3/envs/ia/lib/python3.7/site-packages (from google-api-python-client>=1.9.3->gflow[gcp]==1.1.0->-r requirements.txt (line 4)) (1.35.0)\n",
      "Requirement already satisfied: httplib2<1dev,>=0.15.0 in /Users/vitor.patalano/opt/anaconda3/envs/ia/lib/python3.7/site-packages (from google-api-python-client>=1.9.3->gflow[gcp]==1.1.0->-r requirements.txt (line 4)) (0.22.0)\n",
      "Requirement already satisfied: uritemplate<4dev,>=3.0.0 in /Users/vitor.patalano/opt/anaconda3/envs/ia/lib/python3.7/site-packages (from google-api-python-client>=1.9.3->gflow[gcp]==1.1.0->-r requirements.txt (line 4)) (3.0.1)\n",
      "Requirement already satisfied: protobuf<4.0.0dev in /Users/vitor.patalano/opt/anaconda3/envs/ia/lib/python3.7/site-packages (from google-cloud-bigquery<2.0.0,>=1.24.0->gflow[gcp]==1.1.0->-r requirements.txt (line 4)) (3.20.0)\n",
      "Requirement already satisfied: google-cloud-core<3.0dev,>=1.4.1 in /Users/vitor.patalano/opt/anaconda3/envs/ia/lib/python3.7/site-packages (from google-cloud-bigquery<2.0.0,>=1.24.0->gflow[gcp]==1.1.0->-r requirements.txt (line 4)) (2.3.3)\n",
      "Requirement already satisfied: google-resumable-media<2.0dev,>=0.6.0 in /Users/vitor.patalano/opt/anaconda3/envs/ia/lib/python3.7/site-packages (from google-cloud-bigquery<2.0.0,>=1.24.0->gflow[gcp]==1.1.0->-r requirements.txt (line 4)) (1.3.3)\n",
      "Requirement already satisfied: MarkupSafe>=2.0 in /Users/vitor.patalano/opt/anaconda3/envs/ia/lib/python3.7/site-packages (from Jinja2>=2.0.0->gflow[gcp]==1.1.0->-r requirements.txt (line 4)) (2.1.1)\n",
      "Requirement already satisfied: kfp-server-api<2.0.0,>=1.1.2 in /Users/vitor.patalano/opt/anaconda3/envs/ia/lib/python3.7/site-packages (from kfp>=0.5.1->gflow[gcp]==1.1.0->-r requirements.txt (line 4)) (1.8.5)\n",
      "Requirement already satisfied: kubernetes<26,>=8.0.0 in /Users/vitor.patalano/opt/anaconda3/envs/ia/lib/python3.7/site-packages (from kfp>=0.5.1->gflow[gcp]==1.1.0->-r requirements.txt (line 4)) (25.3.0)\n",
      "Requirement already satisfied: typer<1.0,>=0.3.2 in /Users/vitor.patalano/opt/anaconda3/envs/ia/lib/python3.7/site-packages (from kfp>=0.5.1->gflow[gcp]==1.1.0->-r requirements.txt (line 4)) (0.9.0)\n",
      "Requirement already satisfied: fire<1,>=0.3.1 in /Users/vitor.patalano/opt/anaconda3/envs/ia/lib/python3.7/site-packages (from kfp>=0.5.1->gflow[gcp]==1.1.0->-r requirements.txt (line 4)) (0.5.0)\n",
      "Requirement already satisfied: Deprecated<2,>=1.2.7 in /Users/vitor.patalano/opt/anaconda3/envs/ia/lib/python3.7/site-packages (from kfp>=0.5.1->gflow[gcp]==1.1.0->-r requirements.txt (line 4)) (1.2.13)\n",
      "Requirement already satisfied: strip-hints<1,>=0.1.8 in /Users/vitor.patalano/opt/anaconda3/envs/ia/lib/python3.7/site-packages (from kfp>=0.5.1->gflow[gcp]==1.1.0->-r requirements.txt (line 4)) (0.1.10)\n",
      "Requirement already satisfied: docstring-parser<1,>=0.7.3 in /Users/vitor.patalano/opt/anaconda3/envs/ia/lib/python3.7/site-packages (from kfp>=0.5.1->gflow[gcp]==1.1.0->-r requirements.txt (line 4)) (0.15)\n",
      "Requirement already satisfied: kfp-pipeline-spec<0.2.0,>=0.1.16 in /Users/vitor.patalano/opt/anaconda3/envs/ia/lib/python3.7/site-packages (from kfp>=0.5.1->gflow[gcp]==1.1.0->-r requirements.txt (line 4)) (0.1.16)\n",
      "Requirement already satisfied: typing-extensions<5,>=3.7.4 in /Users/vitor.patalano/opt/anaconda3/envs/ia/lib/python3.7/site-packages (from kfp>=0.5.1->gflow[gcp]==1.1.0->-r requirements.txt (line 4)) (4.3.0)\n",
      "Requirement already satisfied: pydantic<2,>=1.8.2 in /Users/vitor.patalano/opt/anaconda3/envs/ia/lib/python3.7/site-packages (from kfp>=0.5.1->gflow[gcp]==1.1.0->-r requirements.txt (line 4)) (1.10.12)\n",
      "Requirement already satisfied: requests-toolbelt<1,>=0.8.0 in /Users/vitor.patalano/opt/anaconda3/envs/ia/lib/python3.7/site-packages (from kfp>=0.5.1->gflow[gcp]==1.1.0->-r requirements.txt (line 4)) (0.10.1)\n",
      "Requirement already satisfied: jsonschema<5,>=3.0.1 in /Users/vitor.patalano/opt/anaconda3/envs/ia/lib/python3.7/site-packages (from kfp>=0.5.1->gflow[gcp]==1.1.0->-r requirements.txt (line 4)) (4.9.1)\n",
      "Requirement already satisfied: absl-py<2,>=0.9 in /Users/vitor.patalano/opt/anaconda3/envs/ia/lib/python3.7/site-packages (from kfp>=0.5.1->gflow[gcp]==1.1.0->-r requirements.txt (line 4)) (1.3.0)\n",
      "Requirement already satisfied: tabulate<1,>=0.8.6 in /Users/vitor.patalano/opt/anaconda3/envs/ia/lib/python3.7/site-packages (from kfp>=0.5.1->gflow[gcp]==1.1.0->-r requirements.txt (line 4)) (0.9.0)\n",
      "Requirement already satisfied: cloudpickle<3,>=2.0.0 in /Users/vitor.patalano/opt/anaconda3/envs/ia/lib/python3.7/site-packages (from kfp>=0.5.1->gflow[gcp]==1.1.0->-r requirements.txt (line 4)) (2.2.1)\n",
      "Requirement already satisfied: pyparsing!=3.0.5,>=2.0.2 in /Users/vitor.patalano/opt/anaconda3/envs/ia/lib/python3.7/site-packages (from packaging>=20.4->gflow[gcp]==1.1.0->-r requirements.txt (line 4)) (3.0.9)\n",
      "Requirement already satisfied: pytz>=2017.3 in /Users/vitor.patalano/opt/anaconda3/envs/ia/lib/python3.7/site-packages (from pandas>=1.0.0->gflow[gcp]==1.1.0->-r requirements.txt (line 4)) (2022.7.1)\n",
      "Requirement already satisfied: python-dateutil>=2.7.3 in /Users/vitor.patalano/opt/anaconda3/envs/ia/lib/python3.7/site-packages (from pandas>=1.0.0->gflow[gcp]==1.1.0->-r requirements.txt (line 4)) (2.8.2)\n",
      "Requirement already satisfied: text-unidecode>=1.3 in /Users/vitor.patalano/opt/anaconda3/envs/ia/lib/python3.7/site-packages (from python-slugify>=4.0.0->gflow[gcp]==1.1.0->-r requirements.txt (line 4)) (1.3)\n",
      "Requirement already satisfied: charset-normalizer<3,>=2 in /Users/vitor.patalano/opt/anaconda3/envs/ia/lib/python3.7/site-packages (from requests>=2.0.0->gflow[gcp]==1.1.0->-r requirements.txt (line 4)) (2.1.0)\n",
      "Requirement already satisfied: certifi>=2017.4.17 in /Users/vitor.patalano/opt/anaconda3/envs/ia/lib/python3.7/site-packages (from requests>=2.0.0->gflow[gcp]==1.1.0->-r requirements.txt (line 4)) (2022.9.24)\n",
      "Requirement already satisfied: idna<4,>=2.5 in /Users/vitor.patalano/opt/anaconda3/envs/ia/lib/python3.7/site-packages (from requests>=2.0.0->gflow[gcp]==1.1.0->-r requirements.txt (line 4)) (3.3)\n",
      "Requirement already satisfied: chardet>=3.0.2 in /Users/vitor.patalano/opt/anaconda3/envs/ia/lib/python3.7/site-packages (from binaryornot>=0.4.4->cookiecutter>=1.7.2->gflow[gcp]==1.1.0->-r requirements.txt (line 4)) (5.2.0)\n",
      "Requirement already satisfied: wrapt<2,>=1.10 in /Users/vitor.patalano/opt/anaconda3/envs/ia/lib/python3.7/site-packages (from Deprecated<2,>=1.2.7->kfp>=0.5.1->gflow[gcp]==1.1.0->-r requirements.txt (line 4)) (1.14.1)\n",
      "Requirement already satisfied: termcolor in /Users/vitor.patalano/opt/anaconda3/envs/ia/lib/python3.7/site-packages (from fire<1,>=0.3.1->kfp>=0.5.1->gflow[gcp]==1.1.0->-r requirements.txt (line 4)) (2.1.0)\n",
      "Requirement already satisfied: googleapis-common-protos<2.0dev,>=1.56.2 in /Users/vitor.patalano/opt/anaconda3/envs/ia/lib/python3.7/site-packages (from google-api-core<3dev,>=1.21.0->google-api-python-client>=1.9.3->gflow[gcp]==1.1.0->-r requirements.txt (line 4)) (1.60.0)\n",
      "Collecting protobuf<4.0.0dev\n",
      "  Downloading https://artifactory.globoi.com/artifactory/api/pypi/pypi-all/packages/packages/fe/8f/d9db035740002d61b4140aaef53a8bac7e316b18ec8744eb6c1fcf83c310/protobuf-3.20.3-cp37-cp37m-macosx_10_9_x86_64.whl (981 kB)\n",
      "\u001b[2K     \u001b[90m━━━━━━━━━━━━━━━━━━━━━━━━━━━━━━━━━━━━━━\u001b[0m \u001b[32m981.9/981.9 kB\u001b[0m \u001b[31m10.1 MB/s\u001b[0m eta \u001b[36m0:00:00\u001b[0ma \u001b[36m0:00:01\u001b[0m\n",
      "\u001b[?25hRequirement already satisfied: cachetools<5.0,>=2.0.0 in /Users/vitor.patalano/opt/anaconda3/envs/ia/lib/python3.7/site-packages (from google-auth<3dev,>=1.16.0->google-api-python-client>=1.9.3->gflow[gcp]==1.1.0->-r requirements.txt (line 4)) (4.2.4)\n",
      "Requirement already satisfied: rsa<5,>=3.1.4 in /Users/vitor.patalano/opt/anaconda3/envs/ia/lib/python3.7/site-packages (from google-auth<3dev,>=1.16.0->google-api-python-client>=1.9.3->gflow[gcp]==1.1.0->-r requirements.txt (line 4)) (4.9)\n",
      "Requirement already satisfied: setuptools>=40.3.0 in /Users/vitor.patalano/opt/anaconda3/envs/ia/lib/python3.7/site-packages (from google-auth<3dev,>=1.16.0->google-api-python-client>=1.9.3->gflow[gcp]==1.1.0->-r requirements.txt (line 4)) (61.2.0)\n",
      "Requirement already satisfied: pyasn1-modules>=0.2.1 in /Users/vitor.patalano/opt/anaconda3/envs/ia/lib/python3.7/site-packages (from google-auth<3dev,>=1.16.0->google-api-python-client>=1.9.3->gflow[gcp]==1.1.0->-r requirements.txt (line 4)) (0.2.8)\n",
      "Requirement already satisfied: google-crc32c<2.0dev,>=1.0 in /Users/vitor.patalano/opt/anaconda3/envs/ia/lib/python3.7/site-packages (from google-resumable-media<2.0dev,>=0.6.0->google-cloud-bigquery<2.0.0,>=1.24.0->gflow[gcp]==1.1.0->-r requirements.txt (line 4)) (1.5.0)\n",
      "Requirement already satisfied: importlib-resources>=1.4.0 in /Users/vitor.patalano/opt/anaconda3/envs/ia/lib/python3.7/site-packages (from jsonschema<5,>=3.0.1->kfp>=0.5.1->gflow[gcp]==1.1.0->-r requirements.txt (line 4)) (5.9.0)\n",
      "Requirement already satisfied: attrs>=17.4.0 in /Users/vitor.patalano/opt/anaconda3/envs/ia/lib/python3.7/site-packages (from jsonschema<5,>=3.0.1->kfp>=0.5.1->gflow[gcp]==1.1.0->-r requirements.txt (line 4)) (22.1.0)\n",
      "Requirement already satisfied: importlib-metadata in /Users/vitor.patalano/opt/anaconda3/envs/ia/lib/python3.7/site-packages (from jsonschema<5,>=3.0.1->kfp>=0.5.1->gflow[gcp]==1.1.0->-r requirements.txt (line 4)) (4.12.0)\n",
      "Requirement already satisfied: pkgutil-resolve-name>=1.3.10 in /Users/vitor.patalano/opt/anaconda3/envs/ia/lib/python3.7/site-packages (from jsonschema<5,>=3.0.1->kfp>=0.5.1->gflow[gcp]==1.1.0->-r requirements.txt (line 4)) (1.3.10)\n",
      "Requirement already satisfied: pyrsistent!=0.17.0,!=0.17.1,!=0.17.2,>=0.14.0 in /Users/vitor.patalano/opt/anaconda3/envs/ia/lib/python3.7/site-packages (from jsonschema<5,>=3.0.1->kfp>=0.5.1->gflow[gcp]==1.1.0->-r requirements.txt (line 4)) (0.18.1)\n",
      "Requirement already satisfied: requests-oauthlib in /Users/vitor.patalano/opt/anaconda3/envs/ia/lib/python3.7/site-packages (from kubernetes<26,>=8.0.0->kfp>=0.5.1->gflow[gcp]==1.1.0->-r requirements.txt (line 4)) (1.3.1)\n",
      "Requirement already satisfied: wheel in /Users/vitor.patalano/opt/anaconda3/envs/ia/lib/python3.7/site-packages (from strip-hints<1,>=0.1.8->kfp>=0.5.1->gflow[gcp]==1.1.0->-r requirements.txt (line 4)) (0.37.1)\n",
      "Requirement already satisfied: pygments<3.0.0,>=2.13.0 in /Users/vitor.patalano/opt/anaconda3/envs/ia/lib/python3.7/site-packages (from rich->cookiecutter>=1.7.2->gflow[gcp]==1.1.0->-r requirements.txt (line 4)) (2.16.1)\n",
      "Requirement already satisfied: markdown-it-py>=2.2.0 in /Users/vitor.patalano/opt/anaconda3/envs/ia/lib/python3.7/site-packages (from rich->cookiecutter>=1.7.2->gflow[gcp]==1.1.0->-r requirements.txt (line 4)) (2.2.0)\n",
      "Requirement already satisfied: zipp>=3.1.0 in /Users/vitor.patalano/opt/anaconda3/envs/ia/lib/python3.7/site-packages (from importlib-resources>=1.4.0->jsonschema<5,>=3.0.1->kfp>=0.5.1->gflow[gcp]==1.1.0->-r requirements.txt (line 4)) (3.8.1)\n",
      "Requirement already satisfied: mdurl~=0.1 in /Users/vitor.patalano/opt/anaconda3/envs/ia/lib/python3.7/site-packages (from markdown-it-py>=2.2.0->rich->cookiecutter>=1.7.2->gflow[gcp]==1.1.0->-r requirements.txt (line 4)) (0.1.2)\n",
      "Requirement already satisfied: pyasn1<0.5.0,>=0.4.6 in /Users/vitor.patalano/opt/anaconda3/envs/ia/lib/python3.7/site-packages (from pyasn1-modules>=0.2.1->google-auth<3dev,>=1.16.0->google-api-python-client>=1.9.3->gflow[gcp]==1.1.0->-r requirements.txt (line 4)) (0.4.8)\n",
      "Requirement already satisfied: oauthlib>=3.0.0 in /Users/vitor.patalano/opt/anaconda3/envs/ia/lib/python3.7/site-packages (from requests-oauthlib->kubernetes<26,>=8.0.0->kfp>=0.5.1->gflow[gcp]==1.1.0->-r requirements.txt (line 4)) (3.2.0)\n",
      "Installing collected packages: protobuf\n",
      "  Attempting uninstall: protobuf\n",
      "    Found existing installation: protobuf 3.20.0\n",
      "    Uninstalling protobuf-3.20.0:\n",
      "      Successfully uninstalled protobuf-3.20.0\n",
      "Successfully installed protobuf-3.20.3\n",
      "Note: you may need to restart the kernel to use updated packages.\n"
     ]
    }
   ],
   "source": [
    "pip install -r requirements.txt "
   ]
  },
  {
   "cell_type": "code",
   "execution_count": 4,
   "metadata": {},
   "outputs": [
    {
     "name": "stdout",
     "output_type": "stream",
     "text": [
      "mkdir: .gflow: File exists\n"
     ]
    },
    {
     "name": "stderr",
     "output_type": "stream",
     "text": [
      "2023-09-11 16:00:49 vitorpatalano.local root[82119] WARNING \n",
      "A new version of gflow is available.\n",
      "\n",
      "Enter the following command to upgrade:\n",
      "$ pip install 'gflow==1.17.0' --index-url https://artifactory.globoi.com/artifactory/api/pypi/pypi-all/simple\n",
      "\n"
     ]
    }
   ],
   "source": [
    "# This will be our repository\n",
    "!mkdir .gflow\n",
    "\n",
    "from gflow.orchestrator import LocalOrchestrator\n",
    "\n",
    "orchestrator = LocalOrchestrator(repository_uri=\".gflow\")"
   ]
  },
  {
   "cell_type": "code",
   "execution_count": 5,
   "metadata": {},
   "outputs": [],
   "source": [
    "context = orchestrator.context()"
   ]
  },
  {
   "cell_type": "code",
   "execution_count": 10,
   "metadata": {},
   "outputs": [
    {
     "data": {
      "text/html": [
       "<div>\n",
       "<style scoped>\n",
       "    .dataframe tbody tr th:only-of-type {\n",
       "        vertical-align: middle;\n",
       "    }\n",
       "\n",
       "    .dataframe tbody tr th {\n",
       "        vertical-align: top;\n",
       "    }\n",
       "\n",
       "    .dataframe thead th {\n",
       "        text-align: right;\n",
       "    }\n",
       "</style>\n",
       "<table border=\"1\" class=\"dataframe\">\n",
       "  <thead>\n",
       "    <tr style=\"text-align: right;\">\n",
       "      <th></th>\n",
       "      <th>Codigo</th>\n",
       "      <th>Lance</th>\n",
       "      <th>Nome</th>\n",
       "      <th>Ocorrencia</th>\n",
       "      <th>PosicaoLance</th>\n",
       "      <th>TempoPartida</th>\n",
       "      <th>TimestampStr</th>\n",
       "      <th>atleta_id</th>\n",
       "      <th>apelido</th>\n",
       "      <th>sigla</th>\n",
       "      <th>...</th>\n",
       "      <th>coordenadas</th>\n",
       "      <th>x</th>\n",
       "      <th>y</th>\n",
       "      <th>X</th>\n",
       "      <th>Y</th>\n",
       "      <th>Center_dist</th>\n",
       "      <th>Distance</th>\n",
       "      <th>Angle Radians</th>\n",
       "      <th>Angle Degrees</th>\n",
       "      <th>label</th>\n",
       "    </tr>\n",
       "    <tr>\n",
       "      <th>index</th>\n",
       "      <th></th>\n",
       "      <th></th>\n",
       "      <th></th>\n",
       "      <th></th>\n",
       "      <th></th>\n",
       "      <th></th>\n",
       "      <th></th>\n",
       "      <th></th>\n",
       "      <th></th>\n",
       "      <th></th>\n",
       "      <th></th>\n",
       "      <th></th>\n",
       "      <th></th>\n",
       "      <th></th>\n",
       "      <th></th>\n",
       "      <th></th>\n",
       "      <th></th>\n",
       "      <th></th>\n",
       "      <th></th>\n",
       "      <th></th>\n",
       "      <th></th>\n",
       "    </tr>\n",
       "  </thead>\n",
       "  <tbody>\n",
       "    <tr>\n",
       "      <th>0</th>\n",
       "      <td>24</td>\n",
       "      <td>Finalização</td>\n",
       "      <td>Fora da Área Para Fora</td>\n",
       "      <td>PT36M57S</td>\n",
       "      <td>27</td>\n",
       "      <td>2</td>\n",
       "      <td>2023-05-04T01:04:37</td>\n",
       "      <td>69034</td>\n",
       "      <td>Paulinho</td>\n",
       "      <td>MEC</td>\n",
       "      <td>...</td>\n",
       "      <td>(206, 582)</td>\n",
       "      <td>47.818182</td>\n",
       "      <td>19.750</td>\n",
       "      <td>32.516364</td>\n",
       "      <td>84.26250</td>\n",
       "      <td>2.181818</td>\n",
       "      <td>20.790505</td>\n",
       "      <td>0.347694</td>\n",
       "      <td>19.921417</td>\n",
       "      <td>0</td>\n",
       "    </tr>\n",
       "    <tr>\n",
       "      <th>1</th>\n",
       "      <td>20</td>\n",
       "      <td>Finalização</td>\n",
       "      <td>Dentro Área Fora</td>\n",
       "      <td>PT50M20S</td>\n",
       "      <td>34</td>\n",
       "      <td>2</td>\n",
       "      <td>2023-04-19T23:27:35</td>\n",
       "      <td>69034</td>\n",
       "      <td>Paulinho</td>\n",
       "      <td>MEC</td>\n",
       "      <td>...</td>\n",
       "      <td>(299, 715)</td>\n",
       "      <td>54.545455</td>\n",
       "      <td>8.000</td>\n",
       "      <td>37.090909</td>\n",
       "      <td>96.60000</td>\n",
       "      <td>4.545455</td>\n",
       "      <td>8.950627</td>\n",
       "      <td>0.744626</td>\n",
       "      <td>42.663936</td>\n",
       "      <td>0</td>\n",
       "    </tr>\n",
       "    <tr>\n",
       "      <th>2</th>\n",
       "      <td>18</td>\n",
       "      <td>Finalização Cabeça</td>\n",
       "      <td>Grande Área Para Fora</td>\n",
       "      <td>PT2M49S</td>\n",
       "      <td>33</td>\n",
       "      <td>1</td>\n",
       "      <td>2023-04-05T23:03:24</td>\n",
       "      <td>117771</td>\n",
       "      <td>Damián Pizarro</td>\n",
       "      <td>ATA</td>\n",
       "      <td>...</td>\n",
       "      <td>(206, 715)</td>\n",
       "      <td>41.454545</td>\n",
       "      <td>2.125</td>\n",
       "      <td>28.189091</td>\n",
       "      <td>102.76875</td>\n",
       "      <td>8.545455</td>\n",
       "      <td>6.224560</td>\n",
       "      <td>0.572359</td>\n",
       "      <td>32.793748</td>\n",
       "      <td>0</td>\n",
       "    </tr>\n",
       "  </tbody>\n",
       "</table>\n",
       "<p>3 rows × 34 columns</p>\n",
       "</div>"
      ],
      "text/plain": [
       "       Codigo               Lance                    Nome Ocorrencia  \\\n",
       "index                                                                  \n",
       "0          24         Finalização  Fora da Área Para Fora   PT36M57S   \n",
       "1          20         Finalização        Dentro Área Fora   PT50M20S   \n",
       "2          18  Finalização Cabeça   Grande Área Para Fora    PT2M49S   \n",
       "\n",
       "       PosicaoLance  TempoPartida         TimestampStr  atleta_id  \\\n",
       "index                                                               \n",
       "0                27             2  2023-05-04T01:04:37      69034   \n",
       "1                34             2  2023-04-19T23:27:35      69034   \n",
       "2                33             1  2023-04-05T23:03:24     117771   \n",
       "\n",
       "              apelido sigla  ...  coordenadas          x       y          X  \\\n",
       "index                        ...                                              \n",
       "0            Paulinho   MEC  ...   (206, 582)  47.818182  19.750  32.516364   \n",
       "1            Paulinho   MEC  ...   (299, 715)  54.545455   8.000  37.090909   \n",
       "2      Damián Pizarro   ATA  ...   (206, 715)  41.454545   2.125  28.189091   \n",
       "\n",
       "               Y  Center_dist   Distance  Angle Radians Angle Degrees  label  \n",
       "index                                                                         \n",
       "0       84.26250     2.181818  20.790505       0.347694     19.921417      0  \n",
       "1       96.60000     4.545455   8.950627       0.744626     42.663936      0  \n",
       "2      102.76875     8.545455   6.224560       0.572359     32.793748      0  \n",
       "\n",
       "[3 rows x 34 columns]"
      ]
     },
     "execution_count": 10,
     "metadata": {},
     "output_type": "execute_result"
    }
   ],
   "source": [
    "## Loading the dataset as a pandas DataFrame\n",
    "\n",
    "import pandas as pd\n",
    "from sklearn import datasets\n",
    "\n",
    "df_shots = pd.read_csv('Finalizacoes.csv')\n",
    "del df_shots['Unnamed: 0']\n",
    "df_shots.index.name = 'index'\n",
    "df_shots['label'] = df_shots['Goal']\n",
    "df_shots.head(3)\n"
   ]
  },
  {
   "cell_type": "code",
   "execution_count": 11,
   "metadata": {},
   "outputs": [
    {
     "data": {
      "text/html": [
       "<div>\n",
       "<style scoped>\n",
       "    .dataframe tbody tr th:only-of-type {\n",
       "        vertical-align: middle;\n",
       "    }\n",
       "\n",
       "    .dataframe tbody tr th {\n",
       "        vertical-align: top;\n",
       "    }\n",
       "\n",
       "    .dataframe thead th {\n",
       "        text-align: right;\n",
       "    }\n",
       "</style>\n",
       "<table border=\"1\" class=\"dataframe\">\n",
       "  <thead>\n",
       "    <tr style=\"text-align: right;\">\n",
       "      <th></th>\n",
       "      <th>index</th>\n",
       "      <th>Codigo</th>\n",
       "      <th>Lance</th>\n",
       "      <th>Nome</th>\n",
       "      <th>Ocorrencia</th>\n",
       "      <th>PosicaoLance</th>\n",
       "      <th>TempoPartida</th>\n",
       "      <th>TimestampStr</th>\n",
       "      <th>atleta_id</th>\n",
       "      <th>apelido</th>\n",
       "      <th>...</th>\n",
       "      <th>coordenadas</th>\n",
       "      <th>x</th>\n",
       "      <th>y</th>\n",
       "      <th>X</th>\n",
       "      <th>Y</th>\n",
       "      <th>Center_dist</th>\n",
       "      <th>Distance</th>\n",
       "      <th>Angle Radians</th>\n",
       "      <th>Angle Degrees</th>\n",
       "      <th>label</th>\n",
       "    </tr>\n",
       "  </thead>\n",
       "  <tbody>\n",
       "    <tr>\n",
       "      <th>0</th>\n",
       "      <td>0</td>\n",
       "      <td>24</td>\n",
       "      <td>Finalização</td>\n",
       "      <td>Fora da Área Para Fora</td>\n",
       "      <td>PT36M57S</td>\n",
       "      <td>27</td>\n",
       "      <td>2</td>\n",
       "      <td>2023-05-04T01:04:37</td>\n",
       "      <td>69034</td>\n",
       "      <td>Paulinho</td>\n",
       "      <td>...</td>\n",
       "      <td>(206, 582)</td>\n",
       "      <td>47.818182</td>\n",
       "      <td>19.750</td>\n",
       "      <td>32.516364</td>\n",
       "      <td>84.26250</td>\n",
       "      <td>2.181818</td>\n",
       "      <td>20.790505</td>\n",
       "      <td>0.347694</td>\n",
       "      <td>19.921417</td>\n",
       "      <td>0</td>\n",
       "    </tr>\n",
       "    <tr>\n",
       "      <th>1</th>\n",
       "      <td>1</td>\n",
       "      <td>20</td>\n",
       "      <td>Finalização</td>\n",
       "      <td>Dentro Área Fora</td>\n",
       "      <td>PT50M20S</td>\n",
       "      <td>34</td>\n",
       "      <td>2</td>\n",
       "      <td>2023-04-19T23:27:35</td>\n",
       "      <td>69034</td>\n",
       "      <td>Paulinho</td>\n",
       "      <td>...</td>\n",
       "      <td>(299, 715)</td>\n",
       "      <td>54.545455</td>\n",
       "      <td>8.000</td>\n",
       "      <td>37.090909</td>\n",
       "      <td>96.60000</td>\n",
       "      <td>4.545455</td>\n",
       "      <td>8.950627</td>\n",
       "      <td>0.744626</td>\n",
       "      <td>42.663936</td>\n",
       "      <td>0</td>\n",
       "    </tr>\n",
       "    <tr>\n",
       "      <th>2</th>\n",
       "      <td>2</td>\n",
       "      <td>18</td>\n",
       "      <td>Finalização Cabeça</td>\n",
       "      <td>Grande Área Para Fora</td>\n",
       "      <td>PT2M49S</td>\n",
       "      <td>33</td>\n",
       "      <td>1</td>\n",
       "      <td>2023-04-05T23:03:24</td>\n",
       "      <td>117771</td>\n",
       "      <td>Damián Pizarro</td>\n",
       "      <td>...</td>\n",
       "      <td>(206, 715)</td>\n",
       "      <td>41.454545</td>\n",
       "      <td>2.125</td>\n",
       "      <td>28.189091</td>\n",
       "      <td>102.76875</td>\n",
       "      <td>8.545455</td>\n",
       "      <td>6.224560</td>\n",
       "      <td>0.572359</td>\n",
       "      <td>32.793748</td>\n",
       "      <td>0</td>\n",
       "    </tr>\n",
       "  </tbody>\n",
       "</table>\n",
       "<p>3 rows × 35 columns</p>\n",
       "</div>"
      ],
      "text/plain": [
       "   index  Codigo               Lance                    Nome Ocorrencia  \\\n",
       "0      0      24         Finalização  Fora da Área Para Fora   PT36M57S   \n",
       "1      1      20         Finalização        Dentro Área Fora   PT50M20S   \n",
       "2      2      18  Finalização Cabeça   Grande Área Para Fora    PT2M49S   \n",
       "\n",
       "   PosicaoLance  TempoPartida         TimestampStr  atleta_id         apelido  \\\n",
       "0            27             2  2023-05-04T01:04:37      69034        Paulinho   \n",
       "1            34             2  2023-04-19T23:27:35      69034        Paulinho   \n",
       "2            33             1  2023-04-05T23:03:24     117771  Damián Pizarro   \n",
       "\n",
       "   ... coordenadas          x       y          X          Y  Center_dist  \\\n",
       "0  ...  (206, 582)  47.818182  19.750  32.516364   84.26250     2.181818   \n",
       "1  ...  (299, 715)  54.545455   8.000  37.090909   96.60000     4.545455   \n",
       "2  ...  (206, 715)  41.454545   2.125  28.189091  102.76875     8.545455   \n",
       "\n",
       "    Distance  Angle Radians  Angle Degrees label  \n",
       "0  20.790505       0.347694      19.921417     0  \n",
       "1   8.950627       0.744626      42.663936     0  \n",
       "2   6.224560       0.572359      32.793748     0  \n",
       "\n",
       "[3 rows x 35 columns]"
      ]
     },
     "execution_count": 11,
     "metadata": {},
     "output_type": "execute_result"
    }
   ],
   "source": [
    "## Save the dataset in the repository\n",
    "\n",
    "context.save_dataset('shots.csv', df_shots)\n",
    "## Load the dataset to check if everything went fine\n",
    "context.load_dataset('shots.csv').head(3)"
   ]
  },
  {
   "cell_type": "code",
   "execution_count": 23,
   "metadata": {},
   "outputs": [
    {
     "name": "stdout",
     "output_type": "stream",
     "text": [
      "Overwriting shots_dataset_step.py\n"
     ]
    }
   ],
   "source": [
    "%%writefile shots_dataset_step.py\n",
    "\n",
    "from sklearn import datasets\n",
    "\n",
    "from gflow.workflow import Step\n",
    "\n",
    "class ShotsDatasetStep(Step):\n",
    "    def run(self, context):\n",
    "\n",
    "        import pandas as pd\n",
    "        # Lets parametrize the name of the dataset\n",
    "        dataset_name = context.get_input('dataset_name')\n",
    "        \n",
    "        df_shots = pd.read_csv('Finalizacoes.csv')\n",
    "        del df_shots['Unnamed: 0']\n",
    "        df_shots.index.name = 'index'\n",
    "        df_shots['label'] = df_shots['Goal']\n",
    "\n",
    "        df_shots = df_shots[['label','Distance','Angle Radians','header']].copy()\n",
    "                \n",
    "        # Lets log the number of rows of this dataset\n",
    "        context.log_metric('shots_dataset_size', df_shots.shape[0])\n",
    "\n",
    "        context.save_dataset(dataset_name, df_shots)"
   ]
  },
  {
   "cell_type": "code",
   "execution_count": 24,
   "metadata": {},
   "outputs": [
    {
     "data": {
      "text/html": [
       "<div>\n",
       "<style scoped>\n",
       "    .dataframe tbody tr th:only-of-type {\n",
       "        vertical-align: middle;\n",
       "    }\n",
       "\n",
       "    .dataframe tbody tr th {\n",
       "        vertical-align: top;\n",
       "    }\n",
       "\n",
       "    .dataframe thead th {\n",
       "        text-align: right;\n",
       "    }\n",
       "</style>\n",
       "<table border=\"1\" class=\"dataframe\">\n",
       "  <thead>\n",
       "    <tr style=\"text-align: right;\">\n",
       "      <th></th>\n",
       "      <th>index</th>\n",
       "      <th>label</th>\n",
       "      <th>Distance</th>\n",
       "      <th>Angle Radians</th>\n",
       "      <th>header</th>\n",
       "    </tr>\n",
       "  </thead>\n",
       "  <tbody>\n",
       "    <tr>\n",
       "      <th>0</th>\n",
       "      <td>0</td>\n",
       "      <td>0</td>\n",
       "      <td>20.790505</td>\n",
       "      <td>0.347694</td>\n",
       "      <td>0</td>\n",
       "    </tr>\n",
       "    <tr>\n",
       "      <th>1</th>\n",
       "      <td>1</td>\n",
       "      <td>0</td>\n",
       "      <td>8.950627</td>\n",
       "      <td>0.744626</td>\n",
       "      <td>0</td>\n",
       "    </tr>\n",
       "    <tr>\n",
       "      <th>2</th>\n",
       "      <td>2</td>\n",
       "      <td>0</td>\n",
       "      <td>6.224560</td>\n",
       "      <td>0.572359</td>\n",
       "      <td>1</td>\n",
       "    </tr>\n",
       "  </tbody>\n",
       "</table>\n",
       "</div>"
      ],
      "text/plain": [
       "   index  label   Distance  Angle Radians  header\n",
       "0      0      0  20.790505       0.347694       0\n",
       "1      1      0   8.950627       0.744626       0\n",
       "2      2      0   6.224560       0.572359       1"
      ]
     },
     "execution_count": 24,
     "metadata": {},
     "output_type": "execute_result"
    }
   ],
   "source": [
    "from shots_dataset_step import ShotsDatasetStep\n",
    "\n",
    "context.run_step(ShotsDatasetStep('ShotsDatasetStep'), inputs={'dataset_name': 'shots_step.csv'})\n",
    "\n",
    "## Loading the dataset...\n",
    "context.load_dataset('shots_step.csv').head(3)"
   ]
  },
  {
   "cell_type": "code",
   "execution_count": 25,
   "metadata": {},
   "outputs": [
    {
     "data": {
      "text/plain": [
       "{'ShotsDatasetStep': {'shots_dataset_size': 7705}}"
      ]
     },
     "execution_count": 25,
     "metadata": {},
     "output_type": "execute_result"
    }
   ],
   "source": [
    "# You can see all the metrics generated until now...\n",
    "\n",
    "context.list_metrics()"
   ]
  },
  {
   "cell_type": "code",
   "execution_count": 26,
   "metadata": {},
   "outputs": [],
   "source": [
    "# Load the dataset we saved in our context and get the features and labels...\n",
    "df = context.load_dataset('shots_step.csv').set_index('index')\n",
    "\n",
    "X = df.drop(columns=['label']).values.tolist()\n",
    "y = df['label']"
   ]
  },
  {
   "cell_type": "code",
   "execution_count": 27,
   "metadata": {},
   "outputs": [
    {
     "data": {
      "text/plain": [
       "Pipeline(steps=[('clf', LogisticRegression(max_iter=150, random_state=0))])"
      ]
     },
     "execution_count": 27,
     "metadata": {},
     "output_type": "execute_result"
    }
   ],
   "source": [
    "from sklearn.linear_model import LogisticRegression\n",
    "from sklearn.pipeline import Pipeline\n",
    "\n",
    "pipeline = Pipeline([('clf', LogisticRegression(random_state=0, max_iter=150))])\n",
    "\n",
    "# Train!\n",
    "pipeline.fit(X, y)"
   ]
  },
  {
   "cell_type": "code",
   "execution_count": 28,
   "metadata": {},
   "outputs": [
    {
     "data": {
      "text/plain": [
       "'0b54dfe4-831a-41bf-bbdf-5e550a212c50'"
      ]
     },
     "execution_count": 28,
     "metadata": {},
     "output_type": "execute_result"
    }
   ],
   "source": [
    "# Save and version our model with a random version (you could also version it with a specific version)\n",
    "import uuid\n",
    "\n",
    "version = str(uuid.uuid4())\n",
    "\n",
    "context.save_model('model', pipeline)\n",
    "context.version_model('model', version)\n",
    "\n",
    "version"
   ]
  },
  {
   "cell_type": "code",
   "execution_count": 29,
   "metadata": {},
   "outputs": [],
   "source": [
    "# We can also tag model which is useful to know which was the last trained model or which one is in production\n",
    "\n",
    "context.tag_model('model', version, 'dev')"
   ]
  },
  {
   "cell_type": "code",
   "execution_count": 30,
   "metadata": {},
   "outputs": [],
   "source": [
    "# We can load our model by tag our version\n",
    "model = context.load_model_by_tag('model', 'dev')\n",
    "model = context.load_model_by_version('model', version)"
   ]
  },
  {
   "cell_type": "code",
   "execution_count": 31,
   "metadata": {},
   "outputs": [
    {
     "name": "stdout",
     "output_type": "stream",
     "text": [
      "Overwriting train_step.py\n"
     ]
    }
   ],
   "source": [
    "%%writefile train_step.py\n",
    "\n",
    "from sklearn.linear_model import LogisticRegression\n",
    "from sklearn.pipeline import Pipeline\n",
    "\n",
    "from gflow.workflow import Step\n",
    "\n",
    "class TrainStep(Step):\n",
    "    def run(self, context):\n",
    "        # Lets parametrize the name of the dataset and the max_iter parameter\n",
    "        dataset_name = context.get_input('dataset_name')\n",
    "        max_iter = context.get_input('max_iter') or 150\n",
    "        \n",
    "        # Load the dataset and the sklearn pipeline\n",
    "        df = context.load_dataset(dataset_name).set_index('index')\n",
    "\n",
    "        X = df.drop(columns=['label']).values.tolist()\n",
    "        y = df['label']\n",
    "        \n",
    "        pipeline = Pipeline([('clf', LogisticRegression(random_state=0, max_iter=max_iter))])\n",
    "\n",
    "        # Train!\n",
    "        pipeline.fit(X, y)\n",
    "        context.save_model('model', pipeline)\n",
    "        \n",
    "        #Version and tag the model\n",
    "        model_version = context.get_input('model_version')\n",
    "        model_tag = context.get_input('model_tag')\n",
    "\n",
    "        if model_version:\n",
    "            context.version_model('model', model_version)\n",
    "\n",
    "        if model_version and model_tag:\n",
    "            context.tag_model('model', model_version, model_tag)"
   ]
  },
  {
   "cell_type": "code",
   "execution_count": 32,
   "metadata": {},
   "outputs": [
    {
     "data": {
      "text/plain": [
       "Pipeline(steps=[('clf', LogisticRegression(max_iter=221, random_state=0))])"
      ]
     },
     "execution_count": 32,
     "metadata": {},
     "output_type": "execute_result"
    }
   ],
   "source": [
    " # Running the train step\n",
    "from train_step import TrainStep\n",
    "\n",
    "context.run_step(TrainStep('TrainStep'), inputs={\n",
    "    'dataset_name': 'shots_step.csv', \n",
    "    'model_version': str(uuid.uuid4()),\n",
    "    'model_tag': 'train_step',\n",
    "    'max_iter': 221})\n",
    "\n",
    "## Loading the model...\n",
    "context.load_model_by_tag('model', 'train_step')"
   ]
  },
  {
   "cell_type": "code",
   "execution_count": 33,
   "metadata": {},
   "outputs": [
    {
     "name": "stdout",
     "output_type": "stream",
     "text": [
      "Overwriting workflow.yaml\n"
     ]
    }
   ],
   "source": [
    " %%writefile workflow.yaml\n",
    "\n",
    "name: LinearRegression\n",
    "team_name: mlplat\n",
    "runtime:\n",
    "    repository_uri: .gflow\n",
    "inputs:\n",
    "    - max_iter\n",
    "    - model_version\n",
    "    - model_tag\n",
    "steps:\n",
    "    - name: GetShotsDatasetStep\n",
    "      runtime:\n",
    "        class: shots_dataset_step.ShotsDatasetStep\n",
    "      inputs:\n",
    "        dataset_name: shots.csv\n",
    "    - name: TrainStep\n",
    "      runtime:\n",
    "        class: train_step.TrainStep\n",
    "      dependencies:\n",
    "        - GetShotsDatasetStep\n",
    "      inputs:\n",
    "        dataset_name: shots.csv\n",
    "        model_version: \"{{workflow.model_version}}\"\n",
    "        model_tag: \"{{workflow.model_tag}}\"\n",
    "        max_iter: \"{{workflow.max_iter}}\""
   ]
  },
  {
   "cell_type": "code",
   "execution_count": 34,
   "metadata": {},
   "outputs": [
    {
     "data": {
      "image/svg+xml": [
       "<?xml version=\"1.0\" encoding=\"UTF-8\" standalone=\"no\"?>\n",
       "<!DOCTYPE svg PUBLIC \"-//W3C//DTD SVG 1.1//EN\"\n",
       " \"http://www.w3.org/Graphics/SVG/1.1/DTD/svg11.dtd\">\n",
       "<!-- Generated by graphviz version 8.0.4 (20230421.1958)\n",
       " -->\n",
       "<!-- Pages: 1 -->\n",
       "<svg width=\"185pt\" height=\"116pt\"\n",
       " viewBox=\"0.00 0.00 185.43 116.00\" xmlns=\"http://www.w3.org/2000/svg\" xmlns:xlink=\"http://www.w3.org/1999/xlink\">\n",
       "<g id=\"graph0\" class=\"graph\" transform=\"scale(1 1) rotate(0) translate(4 112)\">\n",
       "<polygon fill=\"white\" stroke=\"none\" points=\"-4,4 -4,-112 181.43,-112 181.43,4 -4,4\"/>\n",
       "<!-- 0 -->\n",
       "<g id=\"node1\" class=\"node\">\n",
       "<title>0</title>\n",
       "<ellipse fill=\"none\" stroke=\"black\" cx=\"88.71\" cy=\"-90\" rx=\"88.71\" ry=\"18\"/>\n",
       "<text text-anchor=\"middle\" x=\"88.71\" y=\"-84.95\" font-family=\"Times,serif\" font-size=\"14.00\">GetShotsDatasetStep</text>\n",
       "</g>\n",
       "<!-- 1 -->\n",
       "<g id=\"node2\" class=\"node\">\n",
       "<title>1</title>\n",
       "<ellipse fill=\"none\" stroke=\"black\" cx=\"88.71\" cy=\"-18\" rx=\"47.26\" ry=\"18\"/>\n",
       "<text text-anchor=\"middle\" x=\"88.71\" y=\"-12.95\" font-family=\"Times,serif\" font-size=\"14.00\">TrainStep</text>\n",
       "</g>\n",
       "<!-- 0&#45;&gt;1 -->\n",
       "<g id=\"edge1\" class=\"edge\">\n",
       "<title>0&#45;&gt;1</title>\n",
       "<path fill=\"none\" stroke=\"black\" d=\"M88.71,-71.7C88.71,-64.24 88.71,-55.32 88.71,-46.97\"/>\n",
       "<polygon fill=\"black\" stroke=\"black\" points=\"92.21,-47.1 88.71,-37.1 85.21,-47.1 92.21,-47.1\"/>\n",
       "</g>\n",
       "</g>\n",
       "</svg>\n"
      ],
      "text/plain": [
       "<graphviz.graphs.Digraph at 0x7fd5997f94d0>"
      ]
     },
     "execution_count": 34,
     "metadata": {},
     "output_type": "execute_result"
    }
   ],
   "source": [
    "## You can load our yaml\n",
    "from gflow.workflow import Workflow\n",
    "\n",
    "workflow = Workflow(\"workflow.yaml\")\n",
    "\n",
    "# Draw our workflow\n",
    "workflow.draw()"
   ]
  },
  {
   "cell_type": "code",
   "execution_count": 35,
   "metadata": {},
   "outputs": [
    {
     "name": "stdout",
     "output_type": "stream",
     "text": [
      "{'workflow.max_iter': 201, 'workflow.model_version': 'df9dda93-0555-4082-b0ea-867c9210244d', 'workflow.model_tag': 'workflow-dev'}\n"
     ]
    }
   ],
   "source": [
    "# And we can run our workflow!\n",
    "\n",
    "version = str(uuid.uuid4())\n",
    "summary = workflow.run(inputs={\n",
    "    \"model_version\": version,\n",
    "    \"model_tag\": \"workflow-dev\",\n",
    "    \"max_iter\": 201\n",
    "})\n",
    "\n",
    "# You can save the execution_id of this run\n",
    "execution_id = summary.execution_id\n",
    "\n",
    "# Print all outputs\n",
    "print(summary.outputs)"
   ]
  },
  {
   "cell_type": "code",
   "execution_count": 36,
   "metadata": {},
   "outputs": [
    {
     "data": {
      "text/plain": [
       "Pipeline(steps=[('clf', LogisticRegression(max_iter=201, random_state=0))])"
      ]
     },
     "execution_count": 36,
     "metadata": {},
     "output_type": "execute_result"
    }
   ],
   "source": [
    "# Load the model\n",
    "\n",
    "model = context.load_model_by_tag(\"model\", \"workflow-dev\")\n",
    "\n",
    "model "
   ]
  },
  {
   "cell_type": "code",
   "execution_count": 37,
   "metadata": {},
   "outputs": [
    {
     "data": {
      "text/plain": [
       "{'GetShotsDatasetStep': {'shots_dataset_size': 7705}, 'TrainStep': {}}"
      ]
     },
     "execution_count": 37,
     "metadata": {},
     "output_type": "execute_result"
    }
   ],
   "source": [
    "# We can use the execution_id to view all the metrics of the execution\n",
    "\n",
    "context.list_metrics(execution_id=execution_id)"
   ]
  },
  {
   "cell_type": "code",
   "execution_count": null,
   "metadata": {},
   "outputs": [],
   "source": []
  }
 ],
 "metadata": {
  "kernelspec": {
   "display_name": "ia",
   "language": "python",
   "name": "python3"
  },
  "language_info": {
   "codemirror_mode": {
    "name": "ipython",
    "version": 3
   },
   "file_extension": ".py",
   "mimetype": "text/x-python",
   "name": "python",
   "nbconvert_exporter": "python",
   "pygments_lexer": "ipython3",
   "version": "3.7.11"
  },
  "orig_nbformat": 4
 },
 "nbformat": 4,
 "nbformat_minor": 2
}
